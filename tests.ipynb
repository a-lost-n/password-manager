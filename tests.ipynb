{
 "cells": [
  {
   "cell_type": "code",
   "execution_count": 1,
   "metadata": {},
   "outputs": [],
   "source": [
    "from cryptography.hazmat.primitives import hashes\n",
    "from cryptography.hazmat.primitives.asymmetric import ec\n",
    "from cryptography.hazmat.primitives.kdf.hkdf import HKDF\n",
    "from cryptography.hazmat.primitives import serialization\n",
    "import binascii\n",
    "from datetime import datetime, timedelta\n",
    "import time\n",
    "from utils import *"
   ]
  },
  {
   "cell_type": "code",
   "execution_count": 2,
   "metadata": {},
   "outputs": [],
   "source": [
    "a_private_key = ec.generate_private_key(ec.SECP384R1())\n",
    "b_private_key = ec.generate_private_key(ec.SECP384R1())\n",
    "\n",
    "a_public_key = a_private_key.public_key()\n",
    "b_public_key = b_private_key.public_key()\n",
    "\n",
    "size = 32"
   ]
  },
  {
   "cell_type": "code",
   "execution_count": 3,
   "metadata": {},
   "outputs": [],
   "source": [
    "b_shared_key = b_private_key.exchange(ec.ECDH(), a_public_key)\n",
    "b_derived_key = HKDF(algorithm=hashes.SHA256(),length=size,salt=None,info=b'',).derive(b_shared_key)\n",
    "\n",
    "a_shared_key = a_private_key.exchange(ec.ECDH(), b_public_key)\n",
    "a_derived_key = HKDF(algorithm=hashes.SHA256(),length=size,salt=None,info=b'',).derive(a_shared_key)"
   ]
  },
  {
   "cell_type": "code",
   "execution_count": 4,
   "metadata": {},
   "outputs": [
    {
     "name": "stdout",
     "output_type": "stream",
     "text": [
      "Name of curve:  secp384r1\n",
      "Generated key size: 32 bytes (256 bits)\n",
      "\n",
      "Bob private key value: 32223475770597608793287212692497835298621893132127081436069845802290638162739147996670094192452377147124024263830261\n",
      "Bob's public key:  2d2d2d2d2d424547494e205055424c4943204b45592d2d2d2d2d0a4d485977454159484b6f5a497a6a3043415159464b3445454143494459674145463964317a612b73586b4e492f4d7037686262376e542b7341577472487865310a7856786c4b6262563572344565416755376c532b6a782b573454494a44756c50693336476f674d3763787a645653776a482b6b57665672662f524141487542740a335058705a42624b4a636b6f4f5875616c4e447a785a7452666b6535316c43520a2d2d2d2d2d454e44205055424c4943204b45592d2d2d2d2d0a\n",
      "\n",
      "Alice private key value: 35353047719833114061683678595306940824868270654132575985069107225099098851710744448372620147069550334193521554664401\n",
      "2d2d2d2d2d424547494e205055424c4943204b45592d2d2d2d2d0a4d485977454159484b6f5a497a6a3043415159464b344545414349445967414557786f58632f516566764a69554373534877776c53336455446a5053796e2b740a4b79794d444646547333577a306f417152787671303554326438704d4d474c7377776c6b78774741574942337536394d56444e574d333459553535753447724d0a454f66535a6377454b37736f75304c714f4f7048416135676268734b374f4c4a0a2d2d2d2d2d454e44205055424c4943204b45592d2d2d2d2d0a\n",
      "<cryptography.hazmat.backends.openssl.ec._EllipticCurvePublicKey object at 0x7f88702ea910>\n",
      "Alice's public key:  <cryptography.hazmat.backends.openssl.ec._EllipticCurvePublicKey object at 0x7f88702ea910>\n",
      "\n",
      "Bob's derived key:  336803d8b58c507125674c912bd5e297e686a20d2fbab16eb404d9c2005d80ed\n",
      "Alice's derived key:  336803d8b58c507125674c912bd5e297e686a20d2fbab16eb404d9c2005d80ed\n"
     ]
    }
   ],
   "source": [
    "print (\"Name of curve: \",b_private_key.public_key().curve.name)\n",
    "print (f\"Generated key size: {size} bytes ({size*8} bits)\")\n",
    "\n",
    "vals = b_private_key.private_numbers()\n",
    "print (f\"\\nBob private key value: {vals.private_value}\")\n",
    "vals=b_public_key.public_bytes(    encoding=serialization.Encoding.PEM,\n",
    "    format=serialization.PublicFormat.SubjectPublicKeyInfo)\n",
    "print(\"Bob's public key: \",binascii.b2a_hex(vals).decode())\n",
    "\n",
    "vals = a_private_key.private_numbers()\n",
    "print (f\"\\nAlice private key value: {vals.private_value}\")\n",
    "vals= encode_key(a_public_key)\n",
    "# vals=a_public_key.public_bytes(    encoding=serialization.Encoding.PEM,\n",
    "#     format=serialization.PublicFormat.SubjectPublicKeyInfo)\n",
    "\n",
    "# vals = binascii.b2a_hex(vals).decode()\n",
    "print(vals)\n",
    "vals = decode_key(vals)\n",
    "# vals = bytes(binascii.a2b_hex(vals).decode(), encoding='ascii')\n",
    "# vals = serialization.load_pem_public_key(vals)\n",
    "print(vals)\n",
    "# print(\"Alice's public key: \",binascii.b2a_hex(vals).decode())\n",
    "print(\"Alice's public key: \",vals)\n",
    "\n",
    "print (\"\\nBob's derived key: \",binascii.b2a_hex(b_derived_key).decode())\n",
    "print(\"Alice's derived key: \",binascii.b2a_hex(a_derived_key).decode())"
   ]
  },
  {
   "cell_type": "code",
   "execution_count": 5,
   "metadata": {},
   "outputs": [],
   "source": [
    "key = b'ThisIsA256BitKey1234567890ABCDEF'  # 256-bit key in bytes\n",
    "plaintext = 'Hello, World!'"
   ]
  },
  {
   "cell_type": "code",
   "execution_count": 6,
   "metadata": {},
   "outputs": [
    {
     "name": "stdout",
     "output_type": "stream",
     "text": [
      "d2e47581c447deb615f8421a5d9716c6\n",
      "Ciphertext: a7a4222dbf42a52ac082a4d0a732ec86\n",
      "Decrypted Text: Hello, World!\n"
     ]
    }
   ],
   "source": [
    "iv = generate_iv()\n",
    "print(iv)\n",
    "ciphertext = aes_encrypt(key, iv, plaintext)\n",
    "decrypted_text = aes_decrypt(key, iv, ciphertext)\n",
    "\n",
    "print(f\"Ciphertext: {ciphertext}\")\n",
    "print(f\"Decrypted Text: {decrypted_text}\")"
   ]
  },
  {
   "cell_type": "code",
   "execution_count": 7,
   "metadata": {},
   "outputs": [
    {
     "name": "stdout",
     "output_type": "stream",
     "text": [
      "546869734973413235364269744b657931323334353637383930414243444546\n",
      "b'ThisIsA256BitKey1234567890ABCDEF'\n"
     ]
    }
   ],
   "source": [
    "print(bytes_to_ascii(key))\n",
    "print(ascii_to_bytes(key.hex()))\n",
    "# print(bytes_to_ascii(key.encode()))"
   ]
  },
  {
   "cell_type": "code",
   "execution_count": 19,
   "metadata": {},
   "outputs": [
    {
     "name": "stdout",
     "output_type": "stream",
     "text": [
      "b'3h\\x03\\xd8\\xb5\\x8cPq%gL\\x91+\\xd5\\xe2\\x97\\xe6\\x86\\xa2\\r/\\xba\\xb1n\\xb4\\x04\\xd9\\xc2\\x00]\\x80\\xed'\n",
      "336803d8b58c507125674c912bd5e297e686a20d2fbab16eb404d9c2005d80ed\n",
      "b'3h\\x03\\xd8\\xb5\\x8cPq%gL\\x91+\\xd5\\xe2\\x97\\xe6\\x86\\xa2\\r/\\xba\\xb1n\\xb4\\x04\\xd9\\xc2\\x00]\\x80\\xed'\n"
     ]
    }
   ],
   "source": [
    "\n",
    "print((a_derived_key))\n",
    "key = bytes_to_ascii(a_derived_key)\n",
    "print(key)\n",
    "key = ascii_to_bytes(key)\n",
    "print((key))"
   ]
  },
  {
   "cell_type": "code",
   "execution_count": 9,
   "metadata": {},
   "outputs": [
    {
     "name": "stdout",
     "output_type": "stream",
     "text": [
      "d2e47581c447deb615f8421a5d9716c6\n"
     ]
    }
   ],
   "source": [
    "print(iv)"
   ]
  },
  {
   "cell_type": "code",
   "execution_count": 10,
   "metadata": {},
   "outputs": [
    {
     "data": {
      "text/plain": [
       "'2aeb25716a0a859efb6c2607950ee8293e1c25a57259c46db9b60f30858a21fe'"
      ]
     },
     "execution_count": 10,
     "metadata": {},
     "output_type": "execute_result"
    }
   ],
   "source": [
    "hashlib.sha256(\"asdad\".encode('UTF-8')).hexdigest()"
   ]
  },
  {
   "cell_type": "code",
   "execution_count": 11,
   "metadata": {},
   "outputs": [
    {
     "data": {
      "text/plain": [
       "'1594e2777b3f04112e878afed06e1207'"
      ]
     },
     "execution_count": 11,
     "metadata": {},
     "output_type": "execute_result"
    }
   ],
   "source": [
    "bytes_to_ascii(os.urandom(16))"
   ]
  },
  {
   "cell_type": "code",
   "execution_count": 18,
   "metadata": {},
   "outputs": [
    {
     "name": "stdout",
     "output_type": "stream",
     "text": [
      "6b86b273ff34fce19d6b804eff5a3f57\n",
      "ef797c8118f02dfb649607dd5d3f8c7623048c9c063d532cc95c5ed7a898a64f\n"
     ]
    },
    {
     "ename": "ValueError",
     "evalue": "Invalid key size (16) for AES.",
     "output_type": "error",
     "traceback": [
      "\u001b[0;31m---------------------------------------------------------------------------\u001b[0m",
      "\u001b[0;31mValueError\u001b[0m                                Traceback (most recent call last)",
      "Cell \u001b[0;32mIn[18], line 6\u001b[0m\n\u001b[1;32m      4\u001b[0m \u001b[39mprint\u001b[39m(nonce)\n\u001b[1;32m      5\u001b[0m \u001b[39mprint\u001b[39m(hashed)\n\u001b[0;32m----> 6\u001b[0m ciphertext \u001b[39m=\u001b[39m aes_encrypt(key, nonce, hashed)\n\u001b[1;32m      7\u001b[0m \u001b[39mprint\u001b[39m(ciphertext)\n\u001b[1;32m      8\u001b[0m decrypted_text \u001b[39m=\u001b[39m aes_decrypt(key, nonce, ciphertext)\n",
      "File \u001b[0;32m~/Seguridad2023-1/password-manager/utils.py:44\u001b[0m, in \u001b[0;36maes_encrypt\u001b[0;34m(key, nonce, plaintext)\u001b[0m\n\u001b[1;32m     41\u001b[0m padder \u001b[39m=\u001b[39m padding\u001b[39m.\u001b[39mPKCS7(\u001b[39m128\u001b[39m)\u001b[39m.\u001b[39mpadder()\n\u001b[1;32m     42\u001b[0m padded_plaintext \u001b[39m=\u001b[39m padder\u001b[39m.\u001b[39mupdate(plaintext\u001b[39m.\u001b[39mencode()) \u001b[39m+\u001b[39m padder\u001b[39m.\u001b[39mfinalize()\n\u001b[0;32m---> 44\u001b[0m cipher \u001b[39m=\u001b[39m Cipher(algorithms\u001b[39m.\u001b[39mAES(key), modes\u001b[39m.\u001b[39mCBC(nonce), backend\u001b[39m=\u001b[39mdefault_backend())\n\u001b[1;32m     46\u001b[0m encryptor \u001b[39m=\u001b[39m cipher\u001b[39m.\u001b[39mencryptor()\n\u001b[1;32m     47\u001b[0m ciphertext \u001b[39m=\u001b[39m encryptor\u001b[39m.\u001b[39mupdate(padded_plaintext) \u001b[39m+\u001b[39m encryptor\u001b[39m.\u001b[39mfinalize()\n",
      "File \u001b[0;32m~/anaconda3/envs/seguridad-env/lib/python3.11/site-packages/cryptography/hazmat/primitives/ciphers/algorithms.py:34\u001b[0m, in \u001b[0;36mAES.__init__\u001b[0;34m(self, key)\u001b[0m\n\u001b[1;32m     33\u001b[0m \u001b[39mdef\u001b[39;00m \u001b[39m__init__\u001b[39m(\u001b[39mself\u001b[39m, key: \u001b[39mbytes\u001b[39m):\n\u001b[0;32m---> 34\u001b[0m     \u001b[39mself\u001b[39m\u001b[39m.\u001b[39mkey \u001b[39m=\u001b[39m _verify_key_size(\u001b[39mself\u001b[39m, key)\n",
      "File \u001b[0;32m~/anaconda3/envs/seguridad-env/lib/python3.11/site-packages/cryptography/hazmat/primitives/ciphers/algorithms.py:19\u001b[0m, in \u001b[0;36m_verify_key_size\u001b[0;34m(algorithm, key)\u001b[0m\n\u001b[1;32m     17\u001b[0m \u001b[39m# Verify that the key size matches the expected key size\u001b[39;00m\n\u001b[1;32m     18\u001b[0m \u001b[39mif\u001b[39;00m \u001b[39mlen\u001b[39m(key) \u001b[39m*\u001b[39m \u001b[39m8\u001b[39m \u001b[39mnot\u001b[39;00m \u001b[39min\u001b[39;00m algorithm\u001b[39m.\u001b[39mkey_sizes:\n\u001b[0;32m---> 19\u001b[0m     \u001b[39mraise\u001b[39;00m \u001b[39mValueError\u001b[39;00m(\n\u001b[1;32m     20\u001b[0m         \u001b[39m\"\u001b[39m\u001b[39mInvalid key size (\u001b[39m\u001b[39m{}\u001b[39;00m\u001b[39m) for \u001b[39m\u001b[39m{}\u001b[39;00m\u001b[39m.\u001b[39m\u001b[39m\"\u001b[39m\u001b[39m.\u001b[39mformat(\n\u001b[1;32m     21\u001b[0m             \u001b[39mlen\u001b[39m(key) \u001b[39m*\u001b[39m \u001b[39m8\u001b[39m, algorithm\u001b[39m.\u001b[39mname\n\u001b[1;32m     22\u001b[0m         )\n\u001b[1;32m     23\u001b[0m     )\n\u001b[1;32m     24\u001b[0m \u001b[39mreturn\u001b[39;00m key\n",
      "\u001b[0;31mValueError\u001b[0m: Invalid key size (16) for AES."
     ]
    }
   ],
   "source": [
    "nonce = hash_string(str(1))[:32]\n",
    "hashed = hash_string(\"12345678\")\n",
    "# hashed = \"ASDASD\"\n",
    "print(nonce)\n",
    "print(hashed)\n",
    "ciphertext = aes_encrypt(key, nonce, hashed)\n",
    "print(ciphertext)\n",
    "decrypted_text = aes_decrypt(key, nonce, ciphertext)\n",
    "print(decrypted_text)"
   ]
  },
  {
   "cell_type": "code",
   "execution_count": 13,
   "metadata": {},
   "outputs": [
    {
     "ename": "TypeError",
     "evalue": "aes_encrypt() missing 3 required positional arguments: 'key', 'nonce', and 'plaintext'",
     "output_type": "error",
     "traceback": [
      "\u001b[0;31m---------------------------------------------------------------------------\u001b[0m",
      "\u001b[0;31mTypeError\u001b[0m                                 Traceback (most recent call last)",
      "Cell \u001b[0;32mIn[13], line 3\u001b[0m\n\u001b[1;32m      1\u001b[0m key \u001b[39m=\u001b[39m \u001b[39m\"\u001b[39m\u001b[39m1234\u001b[39m\u001b[39m\"\u001b[39m\n\u001b[1;32m      2\u001b[0m text \u001b[39m=\u001b[39m \u001b[39m\"\u001b[39m\u001b[39mgaaa\u001b[39m\u001b[39m\"\u001b[39m\n\u001b[0;32m----> 3\u001b[0m ciphertext \u001b[39m=\u001b[39m aes_encrypt()\n",
      "\u001b[0;31mTypeError\u001b[0m: aes_encrypt() missing 3 required positional arguments: 'key', 'nonce', and 'plaintext'"
     ]
    }
   ],
   "source": [
    "key = \"1234\"\n",
    "text = \"gaaa\"\n",
    "ciphertext = aes_encrypt()"
   ]
  },
  {
   "cell_type": "code",
   "execution_count": 21,
   "metadata": {},
   "outputs": [
    {
     "name": "stdout",
     "output_type": "stream",
     "text": [
      "6b86b273ff34fce19d6b804eff5a3f57\n"
     ]
    },
    {
     "data": {
      "text/plain": [
       "'19099fc9394c3b88e279a61d046b8cca62f70737297a69b71db3f5fe56893a812e70f50ed880f13fac42246a6063ff22e116c95a8fac0e3e78bfcdc843d4a9574a56d6366739db3ee45710a11154ab24'"
      ]
     },
     "execution_count": 21,
     "metadata": {},
     "output_type": "execute_result"
    }
   ],
   "source": [
    "print(get_nonce(1))\n",
    "aes_encrypt(key, 1, hashed)"
   ]
  }
 ],
 "metadata": {
  "kernelspec": {
   "display_name": "seguridad-env",
   "language": "python",
   "name": "python3"
  },
  "language_info": {
   "codemirror_mode": {
    "name": "ipython",
    "version": 3
   },
   "file_extension": ".py",
   "mimetype": "text/x-python",
   "name": "python",
   "nbconvert_exporter": "python",
   "pygments_lexer": "ipython3",
   "version": "3.11.3"
  },
  "orig_nbformat": 4,
  "vscode": {
   "interpreter": {
    "hash": "24084b97d1c1de6a01a69319522b11954c6efaa32ddec02574a732bb564041a7"
   }
  }
 },
 "nbformat": 4,
 "nbformat_minor": 2
}
