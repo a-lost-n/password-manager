{
 "cells": [
  {
   "cell_type": "code",
   "execution_count": 1,
   "metadata": {},
   "outputs": [],
   "source": [
    "from cryptography.hazmat.primitives import hashes\n",
    "from cryptography.hazmat.primitives.asymmetric import ec\n",
    "from cryptography.hazmat.primitives.kdf.hkdf import HKDF\n",
    "from cryptography.hazmat.primitives import serialization\n",
    "import binascii\n",
    "from datetime import datetime, timedelta\n",
    "import time\n",
    "from utils import *"
   ]
  },
  {
   "cell_type": "code",
   "execution_count": 2,
   "metadata": {},
   "outputs": [],
   "source": [
    "a_private_key = ec.generate_private_key(ec.SECP384R1())\n",
    "b_private_key = ec.generate_private_key(ec.SECP384R1())\n",
    "\n",
    "a_public_key = a_private_key.public_key()\n",
    "b_public_key = b_private_key.public_key()\n",
    "\n",
    "size = 32"
   ]
  },
  {
   "cell_type": "code",
   "execution_count": 3,
   "metadata": {},
   "outputs": [],
   "source": [
    "b_shared_key = b_private_key.exchange(ec.ECDH(), a_public_key)\n",
    "b_derived_key = HKDF(algorithm=hashes.SHA256(),length=size,salt=None,info=b'',).derive(b_shared_key)\n",
    "\n",
    "a_shared_key = a_private_key.exchange(ec.ECDH(), b_public_key)\n",
    "a_derived_key = HKDF(algorithm=hashes.SHA256(),length=size,salt=None,info=b'',).derive(a_shared_key)"
   ]
  },
  {
   "cell_type": "code",
   "execution_count": 4,
   "metadata": {},
   "outputs": [
    {
     "name": "stdout",
     "output_type": "stream",
     "text": [
      "Name of curve:  secp384r1\n",
      "Generated key size: 32 bytes (256 bits)\n",
      "\n",
      "Bob private key value: 5858369020880264584657332200747113996731723474411611282488983999340247696598697372236539001635577652504232476190473\n",
      "Bob's public key:  2d2d2d2d2d424547494e205055424c4943204b45592d2d2d2d2d0a4d485977454159484b6f5a497a6a3043415159464b3445454143494459674145375272576a5444414a2f6267784c7279544b424d344475665a664e44474565380a6d76386a41446d67444e2f6632684c50783166302b2b693059354744536b74366e74456348523768745a2f534d69354142707472764b3354746e7546654770460a544e34686a555951694a4a324747654e4c525858346d4e71584f52366f3147630a2d2d2d2d2d454e44205055424c4943204b45592d2d2d2d2d0a\n",
      "\n",
      "Alice private key value: 23618649920525024406734190017546918763813596094360605118566232566044858835157613855705692435874789439797275436594279\n",
      "2d2d2d2d2d424547494e205055424c4943204b45592d2d2d2d2d0a4d485977454159484b6f5a497a6a3043415159464b34454541434944596741455743517051314d4270612f7632614b484a4c6c39737737776b6e4a355356384c0a746a2b684a746d4747542b7635324f3567726f454f2f6a49494d75736746386350433273626d4d515566366f6a3058467a5854764a36464e462b632b774e4f6e0a51377857536f55726439712f676c4c363750725143747931414543736f4467360a2d2d2d2d2d454e44205055424c4943204b45592d2d2d2d2d0a\n",
      "<cryptography.hazmat.backends.openssl.ec._EllipticCurvePublicKey object at 0x7fad0438e250>\n",
      "Alice's public key:  <cryptography.hazmat.backends.openssl.ec._EllipticCurvePublicKey object at 0x7fad0438e250>\n",
      "\n",
      "Bob's derived key:  942a8e0b4fcb83db375960a4779bce9c6a447c3140005d264c693ddda2ca9641\n",
      "Alice's derived key:  942a8e0b4fcb83db375960a4779bce9c6a447c3140005d264c693ddda2ca9641\n"
     ]
    }
   ],
   "source": [
    "print (\"Name of curve: \",b_private_key.public_key().curve.name)\n",
    "print (f\"Generated key size: {size} bytes ({size*8} bits)\")\n",
    "\n",
    "vals = b_private_key.private_numbers()\n",
    "print (f\"\\nBob private key value: {vals.private_value}\")\n",
    "vals=b_public_key.public_bytes(    encoding=serialization.Encoding.PEM,\n",
    "    format=serialization.PublicFormat.SubjectPublicKeyInfo)\n",
    "print(\"Bob's public key: \",binascii.b2a_hex(vals).decode())\n",
    "\n",
    "vals = a_private_key.private_numbers()\n",
    "print (f\"\\nAlice private key value: {vals.private_value}\")\n",
    "vals= encode_key(a_public_key)\n",
    "# vals=a_public_key.public_bytes(    encoding=serialization.Encoding.PEM,\n",
    "#     format=serialization.PublicFormat.SubjectPublicKeyInfo)\n",
    "\n",
    "# vals = binascii.b2a_hex(vals).decode()\n",
    "print(vals)\n",
    "vals = decode_key(vals)\n",
    "# vals = bytes(binascii.a2b_hex(vals).decode(), encoding='ascii')\n",
    "# vals = serialization.load_pem_public_key(vals)\n",
    "print(vals)\n",
    "# print(\"Alice's public key: \",binascii.b2a_hex(vals).decode())\n",
    "print(\"Alice's public key: \",vals)\n",
    "\n",
    "print (\"\\nBob's derived key: \",binascii.b2a_hex(b_derived_key).decode())\n",
    "print(\"Alice's derived key: \",binascii.b2a_hex(a_derived_key).decode())"
   ]
  },
  {
   "cell_type": "code",
   "execution_count": 5,
   "metadata": {},
   "outputs": [],
   "source": [
    "key = b'ThisIsA256BitKey1234567890ABCDEF'  # 256-bit key in bytes\n",
    "plaintext = 'Hello, World!'"
   ]
  },
  {
   "cell_type": "code",
   "execution_count": 6,
   "metadata": {},
   "outputs": [
    {
     "name": "stdout",
     "output_type": "stream",
     "text": [
      "1bf8afab79486f7d71f2256cdc5aee2e\n",
      "Ciphertext: 61c7eaaef2d73d8480bed90e4c69214f\n",
      "Decrypted Text: Hello, World!\n"
     ]
    }
   ],
   "source": [
    "iv = generate_iv()\n",
    "print(iv)\n",
    "ciphertext = aes_encrypt(key, iv, plaintext)\n",
    "decrypted_text = aes_decrypt(key, iv, ciphertext)\n",
    "\n",
    "print(f\"Ciphertext: {ciphertext}\")\n",
    "print(f\"Decrypted Text: {decrypted_text}\")"
   ]
  },
  {
   "cell_type": "code",
   "execution_count": 7,
   "metadata": {},
   "outputs": [
    {
     "name": "stdout",
     "output_type": "stream",
     "text": [
      "546869734973413235364269744b657931323334353637383930414243444546\n",
      "b'ThisIsA256BitKey1234567890ABCDEF'\n"
     ]
    }
   ],
   "source": [
    "print(bytes_to_ascii(key))\n",
    "print(ascii_to_bytes(key.hex()))\n",
    "# print(bytes_to_ascii(key.encode()))"
   ]
  },
  {
   "cell_type": "code",
   "execution_count": 8,
   "metadata": {},
   "outputs": [
    {
     "name": "stdout",
     "output_type": "stream",
     "text": [
      "b'\\x94*\\x8e\\x0bO\\xcb\\x83\\xdb7Y`\\xa4w\\x9b\\xce\\x9cjD|1@\\x00]&Li=\\xdd\\xa2\\xca\\x96A'\n",
      "942a8e0b4fcb83db375960a4779bce9c6a447c3140005d264c693ddda2ca9641\n",
      "b'\\x94*\\x8e\\x0bO\\xcb\\x83\\xdb7Y`\\xa4w\\x9b\\xce\\x9cjD|1@\\x00]&Li=\\xdd\\xa2\\xca\\x96A'\n"
     ]
    }
   ],
   "source": [
    "\n",
    "print((a_derived_key))\n",
    "key = bytes_to_ascii(a_derived_key)\n",
    "print(key)\n",
    "key = ascii_to_bytes(key)\n",
    "print((key))"
   ]
  },
  {
   "cell_type": "code",
   "execution_count": 9,
   "metadata": {},
   "outputs": [
    {
     "name": "stdout",
     "output_type": "stream",
     "text": [
      "1bf8afab79486f7d71f2256cdc5aee2e\n"
     ]
    }
   ],
   "source": [
    "print(iv)"
   ]
  },
  {
   "cell_type": "code",
   "execution_count": 10,
   "metadata": {},
   "outputs": [
    {
     "data": {
      "text/plain": [
       "'2aeb25716a0a859efb6c2607950ee8293e1c25a57259c46db9b60f30858a21fe'"
      ]
     },
     "execution_count": 10,
     "metadata": {},
     "output_type": "execute_result"
    }
   ],
   "source": [
    "hashlib.sha256(\"asdad\".encode('UTF-8')).hexdigest()"
   ]
  },
  {
   "cell_type": "code",
   "execution_count": 11,
   "metadata": {},
   "outputs": [
    {
     "data": {
      "text/plain": [
       "'1a56df095343912f78bd19c39687c77d'"
      ]
     },
     "execution_count": 11,
     "metadata": {},
     "output_type": "execute_result"
    }
   ],
   "source": [
    "bytes_to_ascii(os.urandom(16))"
   ]
  },
  {
   "cell_type": "code",
   "execution_count": 13,
   "metadata": {},
   "outputs": [
    {
     "name": "stdout",
     "output_type": "stream",
     "text": [
      "6b86b273ff34fce19d6b804eff5a3f57\n",
      "ef797c8118f02dfb649607dd5d3f8c7623048c9c063d532cc95c5ed7a898a64f\n",
      "1dc76487867cbfef1a471d43edb03d6abc3cbf5b50dc96c9061014eb90815b8c48287838ba68d07e69eefe1a71de5c07fba2e68c704988178b21f1a18a11721d3db6d045d01b021244b5c2b6f7536299\n",
      "ef797c8118f02dfb649607dd5d3f8c7623048c9c063d532cc95c5ed7a898a64f\n"
     ]
    }
   ],
   "source": [
    "nonce = hash_string(str(1))[:32]\n",
    "hashed = hash_string(\"12345678\")\n",
    "# hashed = \"ASDASD\"\n",
    "print(nonce)\n",
    "print(hashed)\n",
    "ciphertext = aes_encrypt(key, nonce, hashed)\n",
    "print(ciphertext)\n",
    "decrypted_text = aes_decrypt(key, nonce, ciphertext)\n",
    "print(decrypted_text)"
   ]
  },
  {
   "cell_type": "code",
   "execution_count": null,
   "metadata": {},
   "outputs": [],
   "source": [
    "key = \"1234\"\n",
    "text = \"gaaa\"\n",
    "ciphertext = aes_encrypt()"
   ]
  }
 ],
 "metadata": {
  "kernelspec": {
   "display_name": "seguridad-env",
   "language": "python",
   "name": "python3"
  },
  "language_info": {
   "codemirror_mode": {
    "name": "ipython",
    "version": 3
   },
   "file_extension": ".py",
   "mimetype": "text/x-python",
   "name": "python",
   "nbconvert_exporter": "python",
   "pygments_lexer": "ipython3",
   "version": "3.11.3"
  },
  "orig_nbformat": 4,
  "vscode": {
   "interpreter": {
    "hash": "24084b97d1c1de6a01a69319522b11954c6efaa32ddec02574a732bb564041a7"
   }
  }
 },
 "nbformat": 4,
 "nbformat_minor": 2
}
