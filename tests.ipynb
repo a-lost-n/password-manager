{
 "cells": [
  {
   "cell_type": "code",
   "execution_count": 2,
   "metadata": {},
   "outputs": [],
   "source": [
    "from cryptography.hazmat.primitives import hashes\n",
    "from cryptography.hazmat.primitives.asymmetric import ec\n",
    "from cryptography.hazmat.primitives.kdf.hkdf import HKDF\n",
    "from cryptography.hazmat.primitives import serialization\n",
    "import binascii\n",
    "from datetime import datetime, timedelta\n",
    "import time\n",
    "from utils import *"
   ]
  },
  {
   "cell_type": "code",
   "execution_count": 3,
   "metadata": {},
   "outputs": [],
   "source": [
    "a_private_key = ec.generate_private_key(ec.SECP384R1())\n",
    "b_private_key = ec.generate_private_key(ec.SECP384R1())\n",
    "\n",
    "a_public_key = a_private_key.public_key()\n",
    "b_public_key = b_private_key.public_key()\n",
    "\n",
    "size = 32"
   ]
  },
  {
   "cell_type": "code",
   "execution_count": 4,
   "metadata": {},
   "outputs": [],
   "source": [
    "b_shared_key = b_private_key.exchange(ec.ECDH(), a_public_key)\n",
    "b_derived_key = HKDF(algorithm=hashes.SHA256(),length=size,salt=None,info=b'',).derive(b_shared_key)\n",
    "\n",
    "a_shared_key = a_private_key.exchange(ec.ECDH(), b_public_key)\n",
    "a_derived_key = HKDF(algorithm=hashes.SHA256(),length=size,salt=None,info=b'',).derive(a_shared_key)"
   ]
  },
  {
   "cell_type": "code",
   "execution_count": 5,
   "metadata": {},
   "outputs": [
    {
     "name": "stdout",
     "output_type": "stream",
     "text": [
      "Name of curve:  secp384r1\n",
      "Generated key size: 32 bytes (256 bits)\n",
      "\n",
      "Bob private key value: 6107802066175369843305282228621155763359180819577662541529639812701791754675366980111231715013579690390890259317770\n",
      "Bob's public key:  2d2d2d2d2d424547494e205055424c4943204b45592d2d2d2d2d0a4d485977454159484b6f5a497a6a3043415159464b34454541434944596741456573466c5a3845392b3371656c4b2b322b576e71616b2f4e2f6e3345303877720a696f4742596670552f6479524d2f5639337a3939673176794773414b334f467330514e67665071762f70694e64594150637250776e62657144596c48775564650a466e32487954315469443156796238433437596a6c454a51774a7a2f4f7342590a2d2d2d2d2d454e44205055424c4943204b45592d2d2d2d2d0a\n",
      "\n",
      "Alice private key value: 29090793145163888969035015632722382403688132778863691259708850383858534414229809217765902094779389052743796127043632\n",
      "2d2d2d2d2d424547494e205055424c4943204b45592d2d2d2d2d0a4d485977454159484b6f5a497a6a3043415159464b34454541434944596741454c746c51514749355857425944466d32506172735a4a7751712b4138377035550a6f53647766653462735932446c656c7749365a6d5a322b4652376e415a72414f714a78573065776a6c7a6966325078455544644a6c3851784e2f3574423665540a6274387741352f70464b302b73724968434f707362785533776c4a334d6163620a2d2d2d2d2d454e44205055424c4943204b45592d2d2d2d2d0a\n",
      "<cryptography.hazmat.backends.openssl.ec._EllipticCurvePublicKey object at 0x7f77f9683f90>\n",
      "Alice's public key:  <cryptography.hazmat.backends.openssl.ec._EllipticCurvePublicKey object at 0x7f77f9683f90>\n",
      "\n",
      "Bob's derived key:  8f3cea69403bf19b40b6ab31ad21ad090bca2ba36429a81234cfd82aea399dd1\n",
      "Alice's derived key:  8f3cea69403bf19b40b6ab31ad21ad090bca2ba36429a81234cfd82aea399dd1\n"
     ]
    }
   ],
   "source": [
    "print (\"Name of curve: \",b_private_key.public_key().curve.name)\n",
    "print (f\"Generated key size: {size} bytes ({size*8} bits)\")\n",
    "\n",
    "vals = b_private_key.private_numbers()\n",
    "print (f\"\\nBob private key value: {vals.private_value}\")\n",
    "vals=b_public_key.public_bytes(    encoding=serialization.Encoding.PEM,\n",
    "    format=serialization.PublicFormat.SubjectPublicKeyInfo)\n",
    "print(\"Bob's public key: \",binascii.b2a_hex(vals).decode())\n",
    "\n",
    "vals = a_private_key.private_numbers()\n",
    "print (f\"\\nAlice private key value: {vals.private_value}\")\n",
    "vals= encode_key(a_public_key)\n",
    "# vals=a_public_key.public_bytes(    encoding=serialization.Encoding.PEM,\n",
    "#     format=serialization.PublicFormat.SubjectPublicKeyInfo)\n",
    "\n",
    "# vals = binascii.b2a_hex(vals).decode()\n",
    "print(vals)\n",
    "vals = decode_key(vals)\n",
    "# vals = bytes(binascii.a2b_hex(vals).decode(), encoding='ascii')\n",
    "# vals = serialization.load_pem_public_key(vals)\n",
    "print(vals)\n",
    "# print(\"Alice's public key: \",binascii.b2a_hex(vals).decode())\n",
    "print(\"Alice's public key: \",vals)\n",
    "\n",
    "print (\"\\nBob's derived key: \",binascii.b2a_hex(b_derived_key).decode())\n",
    "print(\"Alice's derived key: \",binascii.b2a_hex(a_derived_key).decode())"
   ]
  },
  {
   "cell_type": "code",
   "execution_count": 6,
   "metadata": {},
   "outputs": [],
   "source": [
    "key = b'ThisIsA256BitKey1234567890ABCDEF'  # 256-bit key in bytes\n",
    "plaintext = 'Hello, World!'"
   ]
  },
  {
   "cell_type": "code",
   "execution_count": 7,
   "metadata": {},
   "outputs": [
    {
     "name": "stdout",
     "output_type": "stream",
     "text": [
      "0a94cdd24fb998a109a83d70c57bc1cc\n",
      "Ciphertext: c1126a8ac48e3f27e0d9039a3a4a973b\n",
      "Decrypted Text: Hello, World!\n"
     ]
    }
   ],
   "source": [
    "iv = generate_iv()\n",
    "print(iv)\n",
    "ciphertext = aes_encrypt(key, iv, plaintext)\n",
    "decrypted_text = aes_decrypt(key, iv, ciphertext)\n",
    "\n",
    "print(f\"Ciphertext: {ciphertext}\")\n",
    "print(f\"Decrypted Text: {decrypted_text}\")"
   ]
  },
  {
   "cell_type": "code",
   "execution_count": 8,
   "metadata": {},
   "outputs": [
    {
     "name": "stdout",
     "output_type": "stream",
     "text": [
      "546869734973413235364269744b657931323334353637383930414243444546\n",
      "b'ThisIsA256BitKey1234567890ABCDEF'\n"
     ]
    }
   ],
   "source": [
    "print(bytes_to_ascii(key))\n",
    "print(ascii_to_bytes(key.hex()))\n",
    "# print(bytes_to_ascii(key.encode()))"
   ]
  },
  {
   "cell_type": "code",
   "execution_count": 9,
   "metadata": {},
   "outputs": [
    {
     "name": "stdout",
     "output_type": "stream",
     "text": [
      "b'\\x8f<\\xeai@;\\xf1\\x9b@\\xb6\\xab1\\xad!\\xad\\t\\x0b\\xca+\\xa3d)\\xa8\\x124\\xcf\\xd8*\\xea9\\x9d\\xd1'\n",
      "8f3cea69403bf19b40b6ab31ad21ad090bca2ba36429a81234cfd82aea399dd1\n",
      "b'\\x8f<\\xeai@;\\xf1\\x9b@\\xb6\\xab1\\xad!\\xad\\t\\x0b\\xca+\\xa3d)\\xa8\\x124\\xcf\\xd8*\\xea9\\x9d\\xd1'\n"
     ]
    }
   ],
   "source": [
    "\n",
    "print((a_derived_key))\n",
    "key = bytes_to_ascii(a_derived_key)\n",
    "print(key)\n",
    "key = ascii_to_bytes(key)\n",
    "print((key))"
   ]
  },
  {
   "cell_type": "code",
   "execution_count": 10,
   "metadata": {},
   "outputs": [
    {
     "name": "stdout",
     "output_type": "stream",
     "text": [
      "0a94cdd24fb998a109a83d70c57bc1cc\n"
     ]
    }
   ],
   "source": [
    "print(iv)"
   ]
  },
  {
   "cell_type": "code",
   "execution_count": 11,
   "metadata": {},
   "outputs": [
    {
     "data": {
      "text/plain": [
       "'2aeb25716a0a859efb6c2607950ee8293e1c25a57259c46db9b60f30858a21fe'"
      ]
     },
     "execution_count": 11,
     "metadata": {},
     "output_type": "execute_result"
    }
   ],
   "source": [
    "hashlib.sha256(\"asdad\".encode('UTF-8')).hexdigest()"
   ]
  },
  {
   "cell_type": "code",
   "execution_count": 12,
   "metadata": {},
   "outputs": [
    {
     "data": {
      "text/plain": [
       "'c10fef297f662151e258eab79c2ad2ef'"
      ]
     },
     "execution_count": 12,
     "metadata": {},
     "output_type": "execute_result"
    }
   ],
   "source": [
    "bytes_to_ascii(os.urandom(16))"
   ]
  },
  {
   "cell_type": "code",
   "execution_count": 32,
   "metadata": {},
   "outputs": [
    {
     "name": "stdout",
     "output_type": "stream",
     "text": [
      "6b86b273ff34fce19d6b804eff5a3f57\n",
      "ef797c8118f02dfb649607dd5d3f8c7623048c9c063d532cc95c5ed7a898a64f\n",
      "5a967517f0b0d1e29a7f8b08e9b82bf45e0bb2ef409ba3491a87cd9f7ee47c6d69aca64cd924743f6f7f8fedda4181ab0b633ca5aa66950dfc63c8a6e6522c4ef80171bcbc68f8e0d154adb2e12da702\n",
      "ef797c8118f02dfb649607dd5d3f8c7623048c9c063d532cc95c5ed7a898a64f\n"
     ]
    }
   ],
   "source": [
    "nonce = hash_string(str(1))[:32]\n",
    "hashed = hash_string(\"12345678\")\n",
    "# hashed = \"ASDASD\"\n",
    "print(nonce)\n",
    "print(hashed)\n",
    "ciphertext = aes_encrypt(key, nonce, hashed)\n",
    "print(ciphertext)\n",
    "decrypted_text = aes_decrypt(key, nonce, ciphertext)\n",
    "print(decrypted_text)"
   ]
  }
 ],
 "metadata": {
  "kernelspec": {
   "display_name": "seguridad-env",
   "language": "python",
   "name": "python3"
  },
  "language_info": {
   "codemirror_mode": {
    "name": "ipython",
    "version": 3
   },
   "file_extension": ".py",
   "mimetype": "text/x-python",
   "name": "python",
   "nbconvert_exporter": "python",
   "pygments_lexer": "ipython3",
   "version": "3.11.3 (main, Apr 19 2023, 23:54:32) [GCC 11.2.0]"
  },
  "orig_nbformat": 4,
  "vscode": {
   "interpreter": {
    "hash": "24084b97d1c1de6a01a69319522b11954c6efaa32ddec02574a732bb564041a7"
   }
  }
 },
 "nbformat": 4,
 "nbformat_minor": 2
}
