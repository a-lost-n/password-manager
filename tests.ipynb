{
 "cells": [
  {
   "cell_type": "code",
   "execution_count": 1,
   "metadata": {},
   "outputs": [],
   "source": [
    "from cryptography.hazmat.primitives import hashes\n",
    "from cryptography.hazmat.primitives.asymmetric import ec\n",
    "from cryptography.hazmat.primitives.kdf.hkdf import HKDF\n",
    "from cryptography.hazmat.primitives import serialization\n",
    "import binascii\n",
    "from datetime import datetime, timedelta\n",
    "import time\n",
    "from utils import *\n",
    "import hashlib"
   ]
  },
  {
   "cell_type": "code",
   "execution_count": 2,
   "metadata": {},
   "outputs": [],
   "source": [
    "a_private_key = ec.generate_private_key(ec.SECP384R1())\n",
    "b_private_key = ec.generate_private_key(ec.SECP384R1())\n",
    "\n",
    "a_public_key = a_private_key.public_key()\n",
    "b_public_key = b_private_key.public_key()\n",
    "\n",
    "size = 32"
   ]
  },
  {
   "cell_type": "code",
   "execution_count": 3,
   "metadata": {},
   "outputs": [],
   "source": [
    "b_shared_key = b_private_key.exchange(ec.ECDH(), a_public_key)\n",
    "b_derived_key = HKDF(algorithm=hashes.SHA256(),length=size,salt=None,info=b'',).derive(b_shared_key)\n",
    "\n",
    "a_shared_key = a_private_key.exchange(ec.ECDH(), b_public_key)\n",
    "a_derived_key = HKDF(algorithm=hashes.SHA256(),length=size,salt=None,info=b'',).derive(a_shared_key)"
   ]
  },
  {
   "cell_type": "code",
   "execution_count": 4,
   "metadata": {},
   "outputs": [
    {
     "name": "stdout",
     "output_type": "stream",
     "text": [
      "Name of curve:  secp384r1\n",
      "Generated key size: 32 bytes (256 bits)\n",
      "\n",
      "Bob private key value: 8406915098903070626004037015545709272957060566691994803413578495244971383956528078143999982598869078010897535656053\n",
      "Bob's public key:  2d2d2d2d2d424547494e205055424c4943204b45592d2d2d2d2d0a4d485977454159484b6f5a497a6a3043415159464b34454541434944596741454a48384a766e79564a42615333646e50412f372b616748514e714277507438610a7642723977744f6a7244775463364459754766684a42496a437979756168756a67383564693677577a796b454669337275774453766e75534e70617177304d410a624650465935556c7945325764462b476f53583841564d756a45316c596a69480a2d2d2d2d2d454e44205055424c4943204b45592d2d2d2d2d0a\n",
      "\n",
      "Alice private key value: 36113993439588716983754970146287622253687377715846686274514585618480300331138390720269062637921804573457723579167499\n",
      "2d2d2d2d2d424547494e205055424c4943204b45592d2d2d2d2d0a4d485977454159484b6f5a497a6a3043415159464b3445454143494459674145585376464b4b4d356846324e6755464634694861694132755944677561666f4f0a35434f49544670454f2b424e3537785045636c4a417637557566497759364e49676b4d6f62366a54764e43696f6179794f6c58625a487659694f6356705647580a467a3736333671313244366230796d3430486c7450466e7058736d4b664e75550a2d2d2d2d2d454e44205055424c4943204b45592d2d2d2d2d0a\n",
      "<cryptography.hazmat.backends.openssl.ec._EllipticCurvePublicKey object at 0x7f5f486fff90>\n",
      "Alice's public key:  <cryptography.hazmat.backends.openssl.ec._EllipticCurvePublicKey object at 0x7f5f486fff90>\n",
      "\n",
      "Bob's derived key:  aab109a5ef83e180f852c15e7e07ef3765e6d90e7f66a093101df1e69f79b0be\n",
      "Alice's derived key:  aab109a5ef83e180f852c15e7e07ef3765e6d90e7f66a093101df1e69f79b0be\n"
     ]
    }
   ],
   "source": [
    "print (\"Name of curve: \",b_private_key.public_key().curve.name)\n",
    "print (f\"Generated key size: {size} bytes ({size*8} bits)\")\n",
    "\n",
    "vals = b_private_key.private_numbers()\n",
    "print (f\"\\nBob private key value: {vals.private_value}\")\n",
    "vals=b_public_key.public_bytes(    encoding=serialization.Encoding.PEM,\n",
    "    format=serialization.PublicFormat.SubjectPublicKeyInfo)\n",
    "print(\"Bob's public key: \",binascii.b2a_hex(vals).decode())\n",
    "\n",
    "vals = a_private_key.private_numbers()\n",
    "print (f\"\\nAlice private key value: {vals.private_value}\")\n",
    "vals= encode_key(a_public_key)\n",
    "# vals=a_public_key.public_bytes(    encoding=serialization.Encoding.PEM,\n",
    "#     format=serialization.PublicFormat.SubjectPublicKeyInfo)\n",
    "\n",
    "# vals = binascii.b2a_hex(vals).decode()\n",
    "print(vals)\n",
    "vals = decode_key(vals)\n",
    "# vals = bytes(binascii.a2b_hex(vals).decode(), encoding='ascii')\n",
    "# vals = serialization.load_pem_public_key(vals)\n",
    "print(vals)\n",
    "# print(\"Alice's public key: \",binascii.b2a_hex(vals).decode())\n",
    "print(\"Alice's public key: \",vals)\n",
    "\n",
    "print (\"\\nBob's derived key: \",binascii.b2a_hex(b_derived_key).decode())\n",
    "print(\"Alice's derived key: \",binascii.b2a_hex(a_derived_key).decode())"
   ]
  },
  {
   "cell_type": "code",
   "execution_count": 5,
   "metadata": {},
   "outputs": [],
   "source": [
    "key = b'ThisIsA256BitKey1234567890ABCDEF'  # 256-bit key in bytes\n",
    "plaintext = 'Hello, World!'"
   ]
  },
  {
   "cell_type": "code",
   "execution_count": 6,
   "metadata": {},
   "outputs": [
    {
     "name": "stdout",
     "output_type": "stream",
     "text": [
      "08bd51676e661e32df4bf87e43daf9d5\n",
      "b'ThisIsA256BitKey1234567890ABCDEF' b'\\x08\\xbdQgnf\\x1e2\\xdfK\\xf8~C\\xda\\xf9\\xd5' b'>\\x7fj\\xa0\\x1a\\x02\\xe8\\x054\\xbb\\xf8\\x07\\x84\\x827\\x01'\n",
      "Ciphertext: b'>\\x7fj\\xa0\\x1a\\x02\\xe8\\x054\\xbb\\xf8\\x07\\x84\\x827\\x01'\n",
      "Decrypted Text: Hello, World!\n"
     ]
    }
   ],
   "source": [
    "iv = generate_iv()\n",
    "print(iv)\n",
    "ciphertext = aes_encrypt(key, iv, plaintext)\n",
    "decrypted_text = aes_decrypt(key, iv, ciphertext)\n",
    "\n",
    "print(f\"Ciphertext: {ciphertext}\")\n",
    "print(f\"Decrypted Text: {decrypted_text}\")"
   ]
  },
  {
   "cell_type": "code",
   "execution_count": 7,
   "metadata": {},
   "outputs": [
    {
     "name": "stdout",
     "output_type": "stream",
     "text": [
      "546869734973413235364269744b657931323334353637383930414243444546\n",
      "b'ThisIsA256BitKey1234567890ABCDEF'\n"
     ]
    }
   ],
   "source": [
    "print(bytes_to_ascii(key))\n",
    "print(ascii_to_bytes(key.hex()))\n",
    "# print(bytes_to_ascii(key.encode()))"
   ]
  },
  {
   "cell_type": "code",
   "execution_count": 8,
   "metadata": {},
   "outputs": [
    {
     "name": "stdout",
     "output_type": "stream",
     "text": [
      "b'\\xaa\\xb1\\t\\xa5\\xef\\x83\\xe1\\x80\\xf8R\\xc1^~\\x07\\xef7e\\xe6\\xd9\\x0e\\x7ff\\xa0\\x93\\x10\\x1d\\xf1\\xe6\\x9fy\\xb0\\xbe'\n",
      "aab109a5ef83e180f852c15e7e07ef3765e6d90e7f66a093101df1e69f79b0be\n",
      "b'\\xaa\\xb1\\t\\xa5\\xef\\x83\\xe1\\x80\\xf8R\\xc1^~\\x07\\xef7e\\xe6\\xd9\\x0e\\x7ff\\xa0\\x93\\x10\\x1d\\xf1\\xe6\\x9fy\\xb0\\xbe'\n"
     ]
    }
   ],
   "source": [
    "\n",
    "print((a_derived_key))\n",
    "key = bytes_to_ascii(a_derived_key)\n",
    "print(key)\n",
    "key = ascii_to_bytes(key)\n",
    "print((key))"
   ]
  },
  {
   "cell_type": "code",
   "execution_count": 9,
   "metadata": {},
   "outputs": [
    {
     "name": "stdout",
     "output_type": "stream",
     "text": [
      "08bd51676e661e32df4bf87e43daf9d5\n"
     ]
    }
   ],
   "source": [
    "print(iv)"
   ]
  },
  {
   "cell_type": "code",
   "execution_count": 10,
   "metadata": {},
   "outputs": [
    {
     "data": {
      "text/plain": [
       "'2aeb25716a0a859efb6c2607950ee8293e1c25a57259c46db9b60f30858a21fe'"
      ]
     },
     "execution_count": 10,
     "metadata": {},
     "output_type": "execute_result"
    }
   ],
   "source": [
    "hashlib.sha256(\"asdad\".encode('UTF-8')).hexdigest()"
   ]
  },
  {
   "cell_type": "code",
   "execution_count": 11,
   "metadata": {},
   "outputs": [
    {
     "data": {
      "text/plain": [
       "'f9317cc310a03d1a70ea27826cee6d4f'"
      ]
     },
     "execution_count": 11,
     "metadata": {},
     "output_type": "execute_result"
    }
   ],
   "source": [
    "bytes_to_ascii(os.urandom(16))"
   ]
  }
 ],
 "metadata": {
  "kernelspec": {
   "display_name": "seguridad-env",
   "language": "python",
   "name": "python3"
  },
  "language_info": {
   "codemirror_mode": {
    "name": "ipython",
    "version": 3
   },
   "file_extension": ".py",
   "mimetype": "text/x-python",
   "name": "python",
   "nbconvert_exporter": "python",
   "pygments_lexer": "ipython3",
   "version": "3.11.3"
  },
  "orig_nbformat": 4,
  "vscode": {
   "interpreter": {
    "hash": "24084b97d1c1de6a01a69319522b11954c6efaa32ddec02574a732bb564041a7"
   }
  }
 },
 "nbformat": 4,
 "nbformat_minor": 2
}
