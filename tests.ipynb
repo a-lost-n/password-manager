{
 "cells": [
  {
   "cell_type": "code",
   "execution_count": 1,
   "metadata": {},
   "outputs": [],
   "source": [
    "from cryptography.hazmat.primitives import hashes\n",
    "from cryptography.hazmat.primitives.asymmetric import ec\n",
    "from cryptography.hazmat.primitives.kdf.hkdf import HKDF\n",
    "from cryptography.hazmat.primitives import serialization\n",
    "import binascii\n",
    "from datetime import datetime, timedelta\n",
    "import time\n",
    "from utils import *"
   ]
  },
  {
   "cell_type": "code",
   "execution_count": 2,
   "metadata": {},
   "outputs": [],
   "source": [
    "a_private_key = ec.generate_private_key(ec.SECP384R1())\n",
    "b_private_key = ec.generate_private_key(ec.SECP384R1())\n",
    "\n",
    "a_public_key = a_private_key.public_key()\n",
    "b_public_key = b_private_key.public_key()\n",
    "\n",
    "size = 32"
   ]
  },
  {
   "cell_type": "code",
   "execution_count": 3,
   "metadata": {},
   "outputs": [],
   "source": [
    "b_shared_key = b_private_key.exchange(ec.ECDH(), a_public_key)\n",
    "b_derived_key = HKDF(algorithm=hashes.SHA256(),length=size,salt=None,info=b'',).derive(b_shared_key)\n",
    "\n",
    "a_shared_key = a_private_key.exchange(ec.ECDH(), b_public_key)\n",
    "a_derived_key = HKDF(algorithm=hashes.SHA256(),length=size,salt=None,info=b'',).derive(a_shared_key)"
   ]
  },
  {
   "cell_type": "code",
   "execution_count": 4,
   "metadata": {},
   "outputs": [
    {
     "name": "stdout",
     "output_type": "stream",
     "text": [
      "Name of curve:  secp384r1\n",
      "Generated key size: 32 bytes (256 bits)\n",
      "\n",
      "Bob private key value: 14305067110062613679065723722640010005699466860144384836714773007897941404608145999509490789670954816064304937584851\n",
      "Bob's public key:  2d2d2d2d2d424547494e205055424c4943204b45592d2d2d2d2d0a4d485977454159484b6f5a497a6a3043415159464b3445454143494459674145744e67742f71383874655a5174744a6a6b35427a4c4559584f6a4f337058386e0a66764c433468506e33692f37344566713267426d6676794e4f343546453168412f744b65756b3044724354426f6739726c41525246747463614d7575614546300a686d4b7757657839324f777946467433675752612b62784163376a55757458450a2d2d2d2d2d454e44205055424c4943204b45592d2d2d2d2d0a\n",
      "\n",
      "Alice private key value: 21383187098158737644197813752652271222511591586602467862238960553568865026261165226709760354232497639129185862084307\n",
      "2d2d2d2d2d424547494e205055424c4943204b45592d2d2d2d2d0a4d485977454159484b6f5a497a6a3043415159464b34454541434944596741455947376e7178434d6738595934774859514c322b5472594a52595352794936450a675957735464476f70316b79766b57444136495647366771704b6f596a43644854616f6853313579566f7346686b31676857476e48564b592b644c732b774e6e0a38426171316569733238544a6154774e616d6352472b46493571304e6561366d0a2d2d2d2d2d454e44205055424c4943204b45592d2d2d2d2d0a\n",
      "<cryptography.hazmat.backends.openssl.ec._EllipticCurvePublicKey object at 0x7f9f32d74590>\n",
      "Alice's public key:  <cryptography.hazmat.backends.openssl.ec._EllipticCurvePublicKey object at 0x7f9f32d74590>\n",
      "\n",
      "Bob's derived key:  007419c7bcf7bf0c94b95bbacdbdf617f303981b7e27c7b43d69bc95e1713439\n",
      "Alice's derived key:  007419c7bcf7bf0c94b95bbacdbdf617f303981b7e27c7b43d69bc95e1713439\n"
     ]
    }
   ],
   "source": [
    "print (\"Name of curve: \",b_private_key.public_key().curve.name)\n",
    "print (f\"Generated key size: {size} bytes ({size*8} bits)\")\n",
    "\n",
    "vals = b_private_key.private_numbers()\n",
    "print (f\"\\nBob private key value: {vals.private_value}\")\n",
    "vals=b_public_key.public_bytes(    encoding=serialization.Encoding.PEM,\n",
    "    format=serialization.PublicFormat.SubjectPublicKeyInfo)\n",
    "print(\"Bob's public key: \",binascii.b2a_hex(vals).decode())\n",
    "\n",
    "vals = a_private_key.private_numbers()\n",
    "print (f\"\\nAlice private key value: {vals.private_value}\")\n",
    "vals= encode_key(a_public_key)\n",
    "# vals=a_public_key.public_bytes(    encoding=serialization.Encoding.PEM,\n",
    "#     format=serialization.PublicFormat.SubjectPublicKeyInfo)\n",
    "\n",
    "# vals = binascii.b2a_hex(vals).decode()\n",
    "print(vals)\n",
    "vals = decode_key(vals)\n",
    "# vals = bytes(binascii.a2b_hex(vals).decode(), encoding='ascii')\n",
    "# vals = serialization.load_pem_public_key(vals)\n",
    "print(vals)\n",
    "# print(\"Alice's public key: \",binascii.b2a_hex(vals).decode())\n",
    "print(\"Alice's public key: \",vals)\n",
    "\n",
    "print (\"\\nBob's derived key: \",binascii.b2a_hex(b_derived_key).decode())\n",
    "print(\"Alice's derived key: \",binascii.b2a_hex(a_derived_key).decode())"
   ]
  },
  {
   "cell_type": "code",
   "execution_count": 5,
   "metadata": {},
   "outputs": [],
   "source": [
    "key = b'ThisIsA256BitKey1234567890ABCDEF'  # 256-bit key in bytes\n",
    "plaintext = 'Hello, World!'"
   ]
  },
  {
   "cell_type": "code",
   "execution_count": 6,
   "metadata": {},
   "outputs": [
    {
     "name": "stdout",
     "output_type": "stream",
     "text": [
      "bc2861e171b5bbc7d4c2072c9f2cfba5\n",
      "Ciphertext: be2d3f43dc150d52fa702b13b0d9bea3\n",
      "Decrypted Text: Hello, World!\n"
     ]
    }
   ],
   "source": [
    "iv = generate_iv()\n",
    "print(iv)\n",
    "ciphertext = aes_encrypt(key, iv, plaintext)\n",
    "decrypted_text = aes_decrypt(key, iv, ciphertext)\n",
    "\n",
    "print(f\"Ciphertext: {ciphertext}\")\n",
    "print(f\"Decrypted Text: {decrypted_text}\")"
   ]
  },
  {
   "cell_type": "code",
   "execution_count": 7,
   "metadata": {},
   "outputs": [
    {
     "name": "stdout",
     "output_type": "stream",
     "text": [
      "546869734973413235364269744b657931323334353637383930414243444546\n",
      "b'ThisIsA256BitKey1234567890ABCDEF'\n"
     ]
    }
   ],
   "source": [
    "print(bytes_to_ascii(key))\n",
    "print(ascii_to_bytes(key.hex()))\n",
    "# print(bytes_to_ascii(key.encode()))"
   ]
  },
  {
   "cell_type": "code",
   "execution_count": 8,
   "metadata": {},
   "outputs": [
    {
     "name": "stdout",
     "output_type": "stream",
     "text": [
      "b\"\\x00t\\x19\\xc7\\xbc\\xf7\\xbf\\x0c\\x94\\xb9[\\xba\\xcd\\xbd\\xf6\\x17\\xf3\\x03\\x98\\x1b~'\\xc7\\xb4=i\\xbc\\x95\\xe1q49\"\n",
      "007419c7bcf7bf0c94b95bbacdbdf617f303981b7e27c7b43d69bc95e1713439\n",
      "b\"\\x00t\\x19\\xc7\\xbc\\xf7\\xbf\\x0c\\x94\\xb9[\\xba\\xcd\\xbd\\xf6\\x17\\xf3\\x03\\x98\\x1b~'\\xc7\\xb4=i\\xbc\\x95\\xe1q49\"\n"
     ]
    }
   ],
   "source": [
    "\n",
    "print((a_derived_key))\n",
    "key = bytes_to_ascii(a_derived_key)\n",
    "print(key)\n",
    "key = ascii_to_bytes(key)\n",
    "print((key))"
   ]
  },
  {
   "cell_type": "code",
   "execution_count": 9,
   "metadata": {},
   "outputs": [
    {
     "name": "stdout",
     "output_type": "stream",
     "text": [
      "bc2861e171b5bbc7d4c2072c9f2cfba5\n"
     ]
    }
   ],
   "source": [
    "print(iv)"
   ]
  },
  {
   "cell_type": "code",
   "execution_count": 10,
   "metadata": {},
   "outputs": [
    {
     "data": {
      "text/plain": [
       "'2aeb25716a0a859efb6c2607950ee8293e1c25a57259c46db9b60f30858a21fe'"
      ]
     },
     "execution_count": 10,
     "metadata": {},
     "output_type": "execute_result"
    }
   ],
   "source": [
    "hashlib.sha256(\"asdad\".encode('UTF-8')).hexdigest()"
   ]
  },
  {
   "cell_type": "code",
   "execution_count": 11,
   "metadata": {},
   "outputs": [
    {
     "data": {
      "text/plain": [
       "'838a6998177d693a2c9d85c73ac6065c'"
      ]
     },
     "execution_count": 11,
     "metadata": {},
     "output_type": "execute_result"
    }
   ],
   "source": [
    "bytes_to_ascii(os.urandom(16))"
   ]
  },
  {
   "cell_type": "code",
   "execution_count": 12,
   "metadata": {},
   "outputs": [
    {
     "name": "stdout",
     "output_type": "stream",
     "text": [
      "6b86b273ff34fce19d6b804eff5a3f57\n",
      "ef797c8118f02dfb649607dd5d3f8c7623048c9c063d532cc95c5ed7a898a64f\n",
      "5e8f504684c2936b4968a22095d4179cdb1dcbf260a35ea7d9e4a65a8e34ce0f9ba9ae329cc16296bc9c03baf00dc61225939215ac7699b36f687d93571a21579347f9d121f5eee12b172238b02a931f\n",
      "ef797c8118f02dfb649607dd5d3f8c7623048c9c063d532cc95c5ed7a898a64f\n"
     ]
    }
   ],
   "source": [
    "nonce = hash_string(str(1))[:32]\n",
    "hashed = hash_string(\"12345678\")\n",
    "# hashed = \"ASDASD\"\n",
    "print(nonce)\n",
    "print(hashed)\n",
    "ciphertext = aes_encrypt(key, nonce, hashed)\n",
    "print(ciphertext)\n",
    "decrypted_text = aes_decrypt(key, nonce, ciphertext)\n",
    "print(decrypted_text)"
   ]
  },
  {
   "cell_type": "code",
   "execution_count": 13,
   "metadata": {},
   "outputs": [
    {
     "ename": "TypeError",
     "evalue": "aes_encrypt() missing 3 required positional arguments: 'key', 'nonce', and 'plaintext'",
     "output_type": "error",
     "traceback": [
      "\u001b[0;31m---------------------------------------------------------------------------\u001b[0m",
      "\u001b[0;31mTypeError\u001b[0m                                 Traceback (most recent call last)",
      "Cell \u001b[0;32mIn[13], line 3\u001b[0m\n\u001b[1;32m      1\u001b[0m key \u001b[39m=\u001b[39m \u001b[39m\"\u001b[39m\u001b[39m1234\u001b[39m\u001b[39m\"\u001b[39m\n\u001b[1;32m      2\u001b[0m text \u001b[39m=\u001b[39m \u001b[39m\"\u001b[39m\u001b[39mgaaa\u001b[39m\u001b[39m\"\u001b[39m\n\u001b[0;32m----> 3\u001b[0m ciphertext \u001b[39m=\u001b[39m aes_encrypt()\n",
      "\u001b[0;31mTypeError\u001b[0m: aes_encrypt() missing 3 required positional arguments: 'key', 'nonce', and 'plaintext'"
     ]
    }
   ],
   "source": [
    "key = \"1234\"\n",
    "text = \"gaaa\"\n",
    "ciphertext = aes_encrypt()"
   ]
  },
  {
   "cell_type": "code",
   "execution_count": null,
   "metadata": {},
   "outputs": [
    {
     "name": "stdout",
     "output_type": "stream",
     "text": [
      "6b86b273ff34fce19d6b804eff5a3f57\n"
     ]
    },
    {
     "data": {
      "text/plain": [
       "'19099fc9394c3b88e279a61d046b8cca62f70737297a69b71db3f5fe56893a812e70f50ed880f13fac42246a6063ff22e116c95a8fac0e3e78bfcdc843d4a9574a56d6366739db3ee45710a11154ab24'"
      ]
     },
     "execution_count": 21,
     "metadata": {},
     "output_type": "execute_result"
    }
   ],
   "source": [
    "print(get_nonce(1))\n",
    "aes_encrypt(key, 1, hashed)"
   ]
  },
  {
   "cell_type": "code",
   "execution_count": 14,
   "metadata": {},
   "outputs": [],
   "source": [
    "t1 = datetime.now()"
   ]
  },
  {
   "cell_type": "code",
   "execution_count": 25,
   "metadata": {},
   "outputs": [
    {
     "data": {
      "text/plain": [
       "True"
      ]
     },
     "execution_count": 25,
     "metadata": {},
     "output_type": "execute_result"
    }
   ],
   "source": [
    "t1 <= datetime.now()"
   ]
  }
 ],
 "metadata": {
  "kernelspec": {
   "display_name": "seguridad-env",
   "language": "python",
   "name": "python3"
  },
  "language_info": {
   "codemirror_mode": {
    "name": "ipython",
    "version": 3
   },
   "file_extension": ".py",
   "mimetype": "text/x-python",
   "name": "python",
   "nbconvert_exporter": "python",
   "pygments_lexer": "ipython3",
   "version": "3.11.3"
  },
  "orig_nbformat": 4,
  "vscode": {
   "interpreter": {
    "hash": "24084b97d1c1de6a01a69319522b11954c6efaa32ddec02574a732bb564041a7"
   }
  }
 },
 "nbformat": 4,
 "nbformat_minor": 2
}
